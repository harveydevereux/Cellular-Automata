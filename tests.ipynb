{
 "cells": [
  {
   "cell_type": "code",
   "execution_count": 16,
   "metadata": {},
   "outputs": [
    {
     "name": "stdout",
     "output_type": "stream",
     "text": [
      "[[ 1.  1.  1.  1.  1.  1.  1.  1.  1.  1.]\n",
      " [ 1.  1.  1.  1.  1.  1.  1.  1.  1.  1.]\n",
      " [ 1.  1.  1.  1.  1.  1.  1.  1.  1.  1.]\n",
      " [ 1.  1.  1.  1.  1.  1.  1.  1.  1.  1.]\n",
      " [ 1.  1.  1.  1.  1.  1.  0.  1.  1.  1.]\n",
      " [ 1.  1.  1.  1.  1.  1.  1.  1.  1.  1.]\n",
      " [ 1.  1.  1.  1.  1.  1.  1.  1.  1.  1.]\n",
      " [ 1.  1.  1.  1.  1.  1.  1.  1.  1.  1.]\n",
      " [ 1.  1.  1.  1.  1.  1.  1.  1.  1.  1.]\n",
      " [ 1.  1.  1.  1.  1.  1.  1.  1.  1.  1.]]\n",
      "[[ 1.  1.  1.  1.  1.  1.  1.  1.  1.  1.]\n",
      " [ 1.  1.  1.  1.  1.  1.  1.  1.  1.  1.]\n",
      " [ 1.  1.  1.  1.  1.  1.  1.  1.  1.  1.]\n",
      " [ 1.  1.  1.  1.  1.  1.  1.  1.  1.  0.]\n",
      " [ 1.  1.  1.  1.  1.  1.  0.  1.  1.  1.]\n",
      " [ 1.  1.  1.  1.  1.  1.  1.  1.  1.  1.]\n",
      " [ 1.  1.  1.  1.  1.  1.  1.  1.  1.  1.]\n",
      " [ 1.  1.  1.  1.  1.  1.  1.  1.  1.  1.]\n",
      " [ 1.  1.  1.  1.  1.  1.  1.  1.  1.  1.]\n",
      " [ 1.  1.  1.  1.  1.  1.  1.  1.  1.  1.]]\n",
      "[[ 1.  1.  1.  1.  1.  1.  1.  1.  1.  1.]\n",
      " [ 1.  1.  1.  1.  1.  1.  1.  1.  1.  1.]\n",
      " [ 1.  1.  1.  1.  1.  1.  1.  1.  1.  1.]\n",
      " [ 1.  1.  1.  1.  1.  1.  1.  1.  1.  0.]\n",
      " [ 1.  0.  1.  1.  1.  1.  0.  1.  1.  1.]\n",
      " [ 1.  1.  1.  1.  1.  1.  1.  1.  1.  1.]\n",
      " [ 1.  1.  1.  1.  1.  1.  1.  1.  1.  1.]\n",
      " [ 1.  1.  1.  1.  1.  1.  1.  1.  1.  1.]\n",
      " [ 1.  1.  1.  1.  1.  1.  1.  1.  1.  1.]\n",
      " [ 1.  1.  1.  1.  1.  1.  1.  1.  1.  1.]]\n",
      "[[ 1.  1.  1.  1.  1.  1.  1.  1.  1.  1.]\n",
      " [ 1.  1.  1.  1.  1.  1.  1.  1.  1.  1.]\n",
      " [ 1.  1.  1.  1.  1.  1.  1.  1.  1.  1.]\n",
      " [ 1.  1.  1.  1.  1.  1.  1.  1.  1.  0.]\n",
      " [ 1.  0.  1.  1.  1.  1.  0.  1.  1.  1.]\n",
      " [ 1.  1.  1.  1.  1.  1.  1.  1.  1.  1.]\n",
      " [ 1.  1.  1.  1.  0.  1.  1.  1.  1.  1.]\n",
      " [ 1.  1.  1.  1.  1.  1.  1.  1.  1.  1.]\n",
      " [ 1.  1.  1.  1.  1.  1.  1.  1.  1.  1.]\n",
      " [ 1.  1.  1.  1.  1.  1.  1.  1.  1.  1.]]\n",
      "[[ 1.  1.  1.  1.  1.  1.  1.  1.  1.  1.]\n",
      " [ 1.  1.  1.  1.  1.  1.  1.  1.  1.  1.]\n",
      " [ 1.  1.  1.  1.  1.  1.  1.  1.  1.  1.]\n",
      " [ 1.  1.  1.  1.  1.  1.  1.  1.  1.  0.]\n",
      " [ 1.  0.  1.  1.  1.  1.  0.  1.  1.  1.]\n",
      " [ 1.  1.  1.  1.  1.  1.  1.  1.  1.  1.]\n",
      " [ 1.  1.  1.  1.  1.  1.  1.  1.  1.  1.]\n",
      " [ 1.  1.  1.  1.  1.  1.  1.  1.  1.  1.]\n",
      " [ 1.  1.  1.  1.  1.  1.  1.  1.  1.  1.]\n",
      " [ 1.  1.  1.  1.  1.  1.  1.  1.  1.  1.]]\n",
      "[[ 1.  1.  1.  1.  1.  1.  1.  1.  1.  1.]\n",
      " [ 1.  1.  1.  1.  1.  1.  1.  1.  1.  1.]\n",
      " [ 1.  1.  1.  1.  1.  1.  1.  1.  1.  1.]\n",
      " [ 1.  1.  1.  1.  1.  1.  1.  1.  1.  0.]\n",
      " [ 1.  0.  1.  1.  1.  1.  0.  0.  1.  1.]\n",
      " [ 1.  1.  1.  1.  1.  1.  1.  1.  1.  1.]\n",
      " [ 1.  1.  1.  1.  1.  1.  1.  1.  1.  1.]\n",
      " [ 1.  1.  1.  1.  1.  1.  1.  1.  1.  1.]\n",
      " [ 1.  1.  1.  1.  1.  1.  1.  1.  1.  1.]\n",
      " [ 1.  1.  1.  1.  1.  1.  1.  1.  1.  1.]]\n",
      "[[ 1.  1.  1.  1.  1.  1.  1.  1.  1.  1.]\n",
      " [ 1.  1.  1.  1.  1.  0.  1.  1.  1.  1.]\n",
      " [ 1.  1.  1.  1.  1.  1.  1.  1.  1.  1.]\n",
      " [ 1.  1.  1.  1.  1.  1.  1.  1.  1.  0.]\n",
      " [ 1.  0.  1.  1.  1.  1.  0.  0.  1.  1.]\n",
      " [ 1.  1.  1.  1.  1.  1.  1.  1.  1.  1.]\n",
      " [ 1.  1.  1.  1.  1.  1.  1.  1.  1.  1.]\n",
      " [ 1.  1.  1.  1.  1.  1.  1.  1.  1.  1.]\n",
      " [ 1.  1.  1.  1.  1.  1.  1.  1.  1.  1.]\n",
      " [ 1.  1.  1.  1.  1.  1.  1.  1.  1.  1.]]\n"
     ]
    }
   ],
   "source": [
    "# %load Grid-testing.py\n",
    "import tkinter as tk\n",
    "from tkinter import ttk\n",
    "import numpy as np\n",
    "\n",
    "class Menubar(tk.Menu):\n",
    "    def __init__(self,parent,*args,**kwargs):\n",
    "        self.parent=parent\n",
    "        tk.Menu.__init__(self,parent,*args,**kwargs)\n",
    "\n",
    "        # initialise menu vars\n",
    "        self.menu_file=tk.Menu(self)\n",
    "        self.menu_simulation=tk.Menu(self)\n",
    "        self.menu_about=tk.Menu(self)\n",
    "\n",
    "        self.menu_file.add_command(label=\"Save\", command=self.save_gridfile)\n",
    "        self.menu_file.add_command(label=\"Open\", command=self.open_gridfile)\n",
    "\n",
    "        #collect them in a list\n",
    "        menus = ((self.menu_file,\"File\"),\n",
    "                 (self.menu_simulation,\"Simulation\"),\n",
    "                 (self.menu_about,\"About\"))\n",
    "        # quickly deploy the menus\n",
    "        for i,(var,lab) in enumerate(menus):\n",
    "            self.add_cascade(menu=var,label=lab)\n",
    "    def save_gridfile(self):\n",
    "        pass\n",
    "    def open_gridfile(self):\n",
    "        pass\n",
    "\n",
    "\n",
    "class Cell(tk.Button):\n",
    "    def __init__(self,parent,*args,**kwargs):\n",
    "        tk.Button.__init__(self, parent, bg=\"white\",activebackground=\"white\",\n",
    "                           relief=\"flat\", overrelief=\"flat\",\n",
    "                           command=self.change_state,\n",
    "                           *args, **kwargs)\n",
    "    def change_state(self):\n",
    "        if self.cget('bg') == 'white':\n",
    "            self.configure(bg='black')\n",
    "            self.configure(activebackground='black')\n",
    "        else:\n",
    "            self.configure(bg='white')\n",
    "            self.configure(activebackground='white')\n",
    "\n",
    "\n",
    "class App(tk.Canvas):\n",
    "    def __init__(self, parent, n_rows, n_cols, *args, **kwargs):\n",
    "        self.parent = parent\n",
    "        tk.Canvas.__init__(self,parent, *args, **kwargs)\n",
    "\n",
    "        self.menubar = Menubar(self)\n",
    "        self.parent['menu'] = self.menubar\n",
    "\n",
    "        self.n_rows = n_rows\n",
    "        self.n_cols = n_cols\n",
    "\n",
    "        self.cells = list()\n",
    "        for i in range(0,self.n_rows*self.n_cols):\n",
    "            self.cells.append(Cell(self,text=str(i)))\n",
    "            row,col = divmod(i,self.n_cols)\n",
    "            self.cells[i].grid(sticky='nsew', row=row, column=col)\n",
    "        self.grid_matrix = np.ones((n_rows,n_cols))\n",
    "        self.animate()\n",
    "    def animate(self):\n",
    "        r = np.random.randint(0,len(self.cells))\n",
    "        self.cells[r].change_state()\n",
    "        row,col = divmod(r,self.n_cols)\n",
    "        if (self.cells[r].cget('bg') == 'black'):\n",
    "            self.grid_matrix[row,col] = 0\n",
    "        else:\n",
    "            self.grid_matrix[row,col] = 1\n",
    "        print(self.grid_matrix)\n",
    "        self.after(5000,self.animate)\n",
    "\n",
    "\n",
    "if __name__ == \"__main__\":\n",
    "    root = tk.Tk()\n",
    "    root.title(\"Grid\")\n",
    "    root.resizable(tk.FALSE,tk.FALSE)\n",
    "    root.option_add('*tearOff', tk.FALSE)\n",
    "    main = App(root,n_rows=10,n_cols=10).grid(column=0,row=0,sticky='nesw')\n",
    "    root.mainloop()"
   ]
  },
  {
   "cell_type": "code",
   "execution_count": null,
   "metadata": {},
   "outputs": [],
   "source": [
    "np.random.randint(1,100)"
   ]
  },
  {
   "cell_type": "code",
   "execution_count": 22,
   "metadata": {},
   "outputs": [],
   "source": [
    "a = list()\n",
    "a.append('1')\n",
    "a.append('2')"
   ]
  },
  {
   "cell_type": "code",
   "execution_count": 23,
   "metadata": {},
   "outputs": [
    {
     "data": {
      "text/plain": [
       "['1', '2']"
      ]
     },
     "execution_count": 23,
     "metadata": {},
     "output_type": "execute_result"
    }
   ],
   "source": [
    "a"
   ]
  },
  {
   "cell_type": "code",
   "execution_count": 57,
   "metadata": {},
   "outputs": [
    {
     "name": "stdout",
     "output_type": "stream",
     "text": [
      "[[1 0 0 1]\n",
      " [1 1 0 1]\n",
      " [1 0 0 0]\n",
      " [1 0 1 1]]\n"
     ]
    }
   ],
   "source": [
    "A = np.array([[1,0,0,1],[1,1,0,1],[1,0,0,0],[1,0,1,1]])\n",
    "print(A)"
   ]
  },
  {
   "cell_type": "code",
   "execution_count": 60,
   "metadata": {},
   "outputs": [],
   "source": [
    "def incase(A):\n",
    "    ra,ca = A.shape\n",
    "    B = np.zeros((ra+2,ca+2))\n",
    "    print(B)\n",
    "    rb,cb = B.shape\n",
    "    for i in range(1,rb-1):\n",
    "        for j in range(1,cb-1):\n",
    "            B[i,j] = A[i-1,j-1]\n",
    "    B[1:rb-1,0] = A[:,ca-1]\n",
    "    B[1:rb-1,cb-1] = A[:,0]\n",
    "    B[0,1:cb-1] = A[ra-1,:]\n",
    "    B[rb-1,1:cb-1] = A[0,:]\n",
    "    \n",
    "    B[0,0] = A[ra-1,ca-1]\n",
    "    B[0,cb-1] = A[ra-1,0]\n",
    "    B[rb-1,cb-1] = A[0,0]\n",
    "    B[rb-1,0] = A[0,ra-1]\n",
    "    print(B)"
   ]
  },
  {
   "cell_type": "code",
   "execution_count": 61,
   "metadata": {},
   "outputs": [
    {
     "name": "stdout",
     "output_type": "stream",
     "text": [
      "[[ 0.  0.  0.  0.  0.  0.]\n",
      " [ 0.  0.  0.  0.  0.  0.]\n",
      " [ 0.  0.  0.  0.  0.  0.]\n",
      " [ 0.  0.  0.  0.  0.  0.]\n",
      " [ 0.  0.  0.  0.  0.  0.]\n",
      " [ 0.  0.  0.  0.  0.  0.]]\n",
      "[[ 1.  1.  0.  1.  1.  1.]\n",
      " [ 1.  1.  0.  0.  1.  1.]\n",
      " [ 1.  1.  1.  0.  1.  1.]\n",
      " [ 0.  1.  0.  0.  0.  1.]\n",
      " [ 1.  1.  0.  1.  1.  1.]\n",
      " [ 1.  1.  0.  0.  1.  1.]]\n"
     ]
    }
   ],
   "source": [
    "incase(A)"
   ]
  },
  {
   "cell_type": "code",
   "execution_count": 63,
   "metadata": {},
   "outputs": [
    {
     "name": "stdout",
     "output_type": "stream",
     "text": [
      "1\n",
      "2\n",
      "3\n",
      "4\n",
      "5\n",
      "6\n",
      "7\n",
      "8\n",
      "9\n"
     ]
    }
   ],
   "source": [
    "for i in range(1,10):\n",
    "    print(i)"
   ]
  },
  {
   "cell_type": "code",
   "execution_count": null,
   "metadata": {},
   "outputs": [],
   "source": []
  }
 ],
 "metadata": {
  "kernelspec": {
   "display_name": "Python 3",
   "language": "python",
   "name": "python3"
  },
  "language_info": {
   "codemirror_mode": {
    "name": "ipython",
    "version": 3
   },
   "file_extension": ".py",
   "mimetype": "text/x-python",
   "name": "python",
   "nbconvert_exporter": "python",
   "pygments_lexer": "ipython3",
   "version": "3.5.2"
  }
 },
 "nbformat": 4,
 "nbformat_minor": 2
}
