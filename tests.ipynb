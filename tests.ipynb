{
 "cells": [
  {
   "cell_type": "code",
   "execution_count": 8,
   "metadata": {},
   "outputs": [],
   "source": [
    "import tkinter as tk\n",
    "from tkinter import ttk\n",
    "import numpy as np\n",
    "\n",
    "class Menubar(tk.Menu):\n",
    "    def __init__(self,parent,*args,**kwargs):\n",
    "        self.parent=parent\n",
    "        tk.Menu.__init__(self,parent,*args,**kwargs)\n",
    "        \n",
    "        # initialise menu vars\n",
    "        self.menu_file=tk.Menu(self)\n",
    "        self.menu_simulation=tk.Menu(self)\n",
    "        self.menu_about=tk.Menu(self)\n",
    "        \n",
    "        self.menu_file.add_command(label=\"Save\", command=self.save_gridfile)\n",
    "        self.menu_file.add_command(label=\"Open\", command=self.open_gridfile)\n",
    "        \n",
    "        #collect them in a list\n",
    "        menus = ((self.menu_file,\"File\"),\n",
    "                 (self.menu_simulation,\"Simulation\"),\n",
    "                 (self.menu_about,\"About\"))\n",
    "        # quickly deploy the menus\n",
    "        for i,(var,lab) in enumerate(menus):\n",
    "            self.add_cascade(menu=var,label=lab)\n",
    "    def save_gridfile(self):\n",
    "        pass\n",
    "    def open_gridfile(self):\n",
    "        pass\n",
    "        \n",
    "        \n",
    "class Cell(tk.Button):\n",
    "    def __init__(self,parent,*args,**kwargs):\n",
    "        tk.Button.__init__(self, parent, bg=\"white\",activebackground=\"white\",\n",
    "                           relief=\"flat\", overrelief=\"flat\", text=\"\",\n",
    "                           command=self.change_state,\n",
    "                           *args, **kwargs)\n",
    "    def change_state(self):\n",
    "        if self.cget('bg') == 'white':\n",
    "            self.configure(bg='black')\n",
    "            self.configure(activebackground='black')\n",
    "        else:\n",
    "            self.configure(bg='white')\n",
    "            self.configure(activebackground='white')\n",
    "    \n",
    "\n",
    "class App(tk.Canvas):\n",
    "    def __init__(self, parent, n_rows, n_cols, *args, **kwargs):\n",
    "        self.parent = parent\n",
    "        tk.Canvas.__init__(self,parent, *args, **kwargs)\n",
    "        \n",
    "        self.menubar = Menubar(self)\n",
    "        self.parent['menu'] = self.menubar\n",
    "        \n",
    "        self.n_rows = n_rows\n",
    "        self.n_cols = n_cols\n",
    "        \n",
    "        self.cells = list()\n",
    "        for i in range(0,self.n_rows*self.n_cols):\n",
    "            self.cells.append(Cell(self))\n",
    "            row,col = divmod(i,self.n_cols)\n",
    "            self.cells[i].grid(sticky='nsew', row=row, column=col)\n",
    "        self.grid_matrix = np.zeros((n_rows,n_cols))\n",
    "        self.animate()\n",
    "    def animate(self):\n",
    "        r = np.random.randint(0,len(self.cells)-2)\n",
    "        self.cells[r].change_state()\n",
    "        self.after(1,self.animate)\n",
    "        \n",
    "\n",
    "if __name__ == \"__main__\":\n",
    "    root = tk.Tk()\n",
    "    root.title(\"Grid\")\n",
    "    root.resizable(tk.FALSE,tk.FALSE)\n",
    "    root.option_add('*tearOff', tk.FALSE)\n",
    "    main = App(root,n_rows=10,n_cols=10).grid(column=0,row=0,sticky='nesw')\n",
    "    root.mainloop()"
   ]
  },
  {
   "cell_type": "code",
   "execution_count": 3,
   "metadata": {},
   "outputs": [
    {
     "data": {
      "text/plain": [
       "35"
      ]
     },
     "execution_count": 3,
     "metadata": {},
     "output_type": "execute_result"
    }
   ],
   "source": [
    "np.random.randint(1,100)"
   ]
  },
  {
   "cell_type": "code",
   "execution_count": 22,
   "metadata": {},
   "outputs": [],
   "source": [
    "a = list()\n",
    "a.append('1')\n",
    "a.append('2')"
   ]
  },
  {
   "cell_type": "code",
   "execution_count": 23,
   "metadata": {},
   "outputs": [
    {
     "data": {
      "text/plain": [
       "['1', '2']"
      ]
     },
     "execution_count": 23,
     "metadata": {},
     "output_type": "execute_result"
    }
   ],
   "source": [
    "a"
   ]
  },
  {
   "cell_type": "code",
   "execution_count": 29,
   "metadata": {},
   "outputs": [
    {
     "data": {
      "text/plain": [
       "2"
      ]
     },
     "execution_count": 29,
     "metadata": {},
     "output_type": "execute_result"
    }
   ],
   "source": []
  },
  {
   "cell_type": "code",
   "execution_count": null,
   "metadata": {},
   "outputs": [],
   "source": []
  },
  {
   "cell_type": "code",
   "execution_count": null,
   "metadata": {},
   "outputs": [],
   "source": []
  }
 ],
 "metadata": {
  "kernelspec": {
   "display_name": "Python 3",
   "language": "python",
   "name": "python3"
  },
  "language_info": {
   "codemirror_mode": {
    "name": "ipython",
    "version": 3
   },
   "file_extension": ".py",
   "mimetype": "text/x-python",
   "name": "python",
   "nbconvert_exporter": "python",
   "pygments_lexer": "ipython3",
   "version": "3.5.2"
  }
 },
 "nbformat": 4,
 "nbformat_minor": 2
}
